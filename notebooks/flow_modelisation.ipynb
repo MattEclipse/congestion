{
 "cells": [
  {
   "cell_type": "markdown",
   "metadata": {},
   "source": [
    "# Modélisation du réseau"
   ]
  },
  {
   "cell_type": "markdown",
   "metadata": {},
   "source": [
    "### Importations"
   ]
  },
  {
   "cell_type": "code",
   "execution_count": 3,
   "metadata": {},
   "outputs": [],
   "source": [
    "import pandas as pd\n",
    "import matplotlib.pyplot as plt\n",
    "import numpy as np\n",
    "import json \n",
    "import seaborn as sns\n",
    "import utm\n",
    "\n",
    "import plotly.express as px\n",
    "import plotly.graph_objects as go\n",
    "\n",
    "from sklearn.cluster import DBSCAN\n",
    "from sklearn.linear_model import LinearRegression\n",
    "\n",
    "from utils import *\n",
    "\n",
    "import os"
   ]
  },
  {
   "cell_type": "markdown",
   "metadata": {},
   "source": [
    "### Paramètres"
   ]
  },
  {
   "cell_type": "code",
   "execution_count": null,
   "metadata": {},
   "outputs": [],
   "source": []
  },
  {
   "cell_type": "markdown",
   "metadata": {},
   "source": [
    "## Lignes "
   ]
  },
  {
   "cell_type": "markdown",
   "metadata": {},
   "source": [
    "1. Aériennes"
   ]
  },
  {
   "cell_type": "code",
   "execution_count": 12,
   "metadata": {},
   "outputs": [],
   "source": [
    "path_ligne_aerienne = '/Users/matthiasmolenat/repos/congestion/data/2412_lignes-aeriennes-rte-nv.csv'\n",
    "df_ligne_RT_a= pd.read_csv(path_ligne_aerienne,delimiter=';')"
   ]
  },
  {
   "cell_type": "markdown",
   "metadata": {},
   "source": [
    "2. Souterraines"
   ]
  },
  {
   "cell_type": "code",
   "execution_count": 14,
   "metadata": {},
   "outputs": [],
   "source": [
    "path_ligne_souterraine = '/Users/matthiasmolenat/repos/congestion/data/2412_lignes-souterraines-rte-nv.csv'\n",
    "df_ligne_RT_s= pd.read_csv(path_ligne_souterraine,delimiter=';')"
   ]
  },
  {
   "cell_type": "markdown",
   "metadata": {},
   "source": [
    "3. Concatennation"
   ]
  },
  {
   "cell_type": "code",
   "execution_count": 16,
   "metadata": {},
   "outputs": [],
   "source": [
    "df_ligne_RT = pd.concat([df_ligne_RT_a,df_ligne_RT_s])"
   ]
  },
  {
   "cell_type": "code",
   "execution_count": 18,
   "metadata": {},
   "outputs": [],
   "source": [
    "# calcul de la colonne des lignes\n",
    "\n",
    "geo_shape_index = df_ligne_RT.columns.to_list().index(\"Geo Shape\")\n",
    "\n",
    "for index, row in df_ligne_RT.iterrows():\n",
    "    geo_data = json.loads(row['Geo Shape'])\n",
    "    longitudes, latitudes = zip(*geo_data[\"coordinates\"])\n",
    "    df_ligne_RT.at[index, \"Length (m)\"] = length_from_coordinate(longitudes, latitudes)"
   ]
  },
  {
   "cell_type": "markdown",
   "metadata": {},
   "source": [
    "## Postes"
   ]
  },
  {
   "cell_type": "code",
   "execution_count": 20,
   "metadata": {},
   "outputs": [],
   "source": [
    "path_postes= '/Users/matthiasmolenat/repos/congestion/data/2412_postes-electriques-rte.csv'\n",
    "df_postes_RT= pd.read_csv(path_postes,delimiter=';')"
   ]
  },
  {
   "cell_type": "code",
   "execution_count": null,
   "metadata": {},
   "outputs": [],
   "source": [
    "df_postes_RT.head()"
   ]
  }
 ],
 "metadata": {
  "kernelspec": {
   "display_name": ".venv",
   "language": "python",
   "name": "python3"
  },
  "language_info": {
   "codemirror_mode": {
    "name": "ipython",
    "version": 3
   },
   "file_extension": ".py",
   "mimetype": "text/x-python",
   "name": "python",
   "nbconvert_exporter": "python",
   "pygments_lexer": "ipython3",
   "version": "3.11.8"
  }
 },
 "nbformat": 4,
 "nbformat_minor": 2
}
