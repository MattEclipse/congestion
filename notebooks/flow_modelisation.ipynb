{
 "cells": [
  {
   "cell_type": "markdown",
   "metadata": {},
   "source": [
    "# Modélisation du réseau"
   ]
  },
  {
   "cell_type": "markdown",
   "metadata": {},
   "source": [
    "### Library"
   ]
  },
  {
   "cell_type": "code",
   "execution_count": 257,
   "metadata": {},
   "outputs": [],
   "source": [
    "import pandas as pd\n",
    "import matplotlib.pyplot as plt\n",
    "import numpy as np\n",
    "import json \n",
    "import seaborn as sns\n",
    "import utm\n",
    "\n",
    "import plotly.express as px\n",
    "import plotly.graph_objects as go\n",
    "\n",
    "from sklearn.cluster import DBSCAN\n",
    "from sklearn.linear_model import LinearRegression\n",
    "\n",
    "from utils import *\n",
    "\n",
    "import os"
   ]
  },
  {
   "cell_type": "markdown",
   "metadata": {},
   "source": [
    "### Parameters"
   ]
  },
  {
   "cell_type": "code",
   "execution_count": 182,
   "metadata": {},
   "outputs": [],
   "source": [
    "tension_level = ['400kV', '225kV','90kV', '63kV', '45kV', '<45kV']\n",
    "tension_layer = 0"
   ]
  },
  {
   "cell_type": "markdown",
   "metadata": {},
   "source": [
    "## Datas "
   ]
  },
  {
   "cell_type": "markdown",
   "metadata": {},
   "source": [
    "### Lignes"
   ]
  },
  {
   "cell_type": "markdown",
   "metadata": {},
   "source": [
    "1. Aériennes"
   ]
  },
  {
   "cell_type": "code",
   "execution_count": null,
   "metadata": {},
   "outputs": [],
   "source": [
    "path_ligne_aerienne = '/Users/matthiasmolenat/repos/congestion/data/2412_lignes-aeriennes-rte-nv.csv'\n",
    "df_ligne_RT_a= pd.read_csv(path_ligne_aerienne,delimiter=';')"
   ]
  },
  {
   "cell_type": "markdown",
   "metadata": {},
   "source": [
    "2. Souterraines"
   ]
  },
  {
   "cell_type": "code",
   "execution_count": 184,
   "metadata": {},
   "outputs": [],
   "source": [
    "path_ligne_souterraine = \"/Users/matthiasmolenat/repos/congestion/data/2412_lignes-souterraines-rte-nv.csv\"\n",
    "df_ligne_RT_s= pd.read_csv(path_ligne_souterraine,delimiter=\";\")"
   ]
  },
  {
   "cell_type": "markdown",
   "metadata": {},
   "source": [
    "3. Concatennation"
   ]
  },
  {
   "cell_type": "code",
   "execution_count": 185,
   "metadata": {},
   "outputs": [],
   "source": [
    "df_ligne_RT = pd.concat([df_ligne_RT_a,df_ligne_RT_s])"
   ]
  },
  {
   "cell_type": "code",
   "execution_count": 186,
   "metadata": {},
   "outputs": [],
   "source": [
    "# calcul de la colonne des longueur\n",
    "if True :\n",
    "\n",
    "    geo_shape_index = df_ligne_RT.columns.to_list().index(\"Geo Shape\")\n",
    "\n",
    "    for index, row in df_ligne_RT.iterrows():\n",
    "        geo_data = json.loads(row['Geo Shape'])\n",
    "        longitudes, latitudes = zip(*geo_data[\"coordinates\"])\n",
    "        df_ligne_RT.at[index, \"Length (m)\"] = length_from_coordinate(longitudes, latitudes)"
   ]
  },
  {
   "cell_type": "code",
   "execution_count": null,
   "metadata": {},
   "outputs": [],
   "source": [
    "df_ligne_RT.shape"
   ]
  },
  {
   "cell_type": "markdown",
   "metadata": {},
   "source": [
    "## Postes"
   ]
  },
  {
   "cell_type": "code",
   "execution_count": 188,
   "metadata": {},
   "outputs": [],
   "source": [
    "path_postes= '/Users/matthiasmolenat/repos/congestion/data/2412_postes-electriques-rte.csv'\n",
    "df_postes_RT= pd.read_csv(path_postes,delimiter=';')"
   ]
  },
  {
   "cell_type": "markdown",
   "metadata": {},
   "source": [
    "## Flux de puissance"
   ]
  },
  {
   "cell_type": "markdown",
   "metadata": {},
   "source": [
    "### Consommation des métropôles"
   ]
  },
  {
   "cell_type": "markdown",
   "metadata": {},
   "source": [
    "Consommation des métrôpoles françaises : https://odre.opendatasoft.com/explore/dataset/eco2mix-metropoles-tr/information/?disjunctive.libelle_metropole&disjunctive.nature"
   ]
  },
  {
   "cell_type": "code",
   "execution_count": 189,
   "metadata": {},
   "outputs": [],
   "source": [
    "path_metropoles= '/Users/matthiasmolenat/repos/congestion/data/eco2mix-metropoles-tr.csv'\n",
    "df_metropoles= pd.read_csv(path_metropoles,delimiter=';')"
   ]
  },
  {
   "cell_type": "code",
   "execution_count": 190,
   "metadata": {},
   "outputs": [],
   "source": [
    "df_metropoles_grouped = df_metropoles.groupby(['Métropole'])\n",
    "df_metropoles_separated = {group_name[0]: sub_df for group_name, sub_df in df_metropoles_grouped}"
   ]
  },
  {
   "cell_type": "code",
   "execution_count": null,
   "metadata": {},
   "outputs": [],
   "source": [
    "df_metropoles_separated['Bordeaux Métropole']"
   ]
  },
  {
   "cell_type": "markdown",
   "metadata": {},
   "source": [
    "Contour simplifié des EPCI : https://www.data.gouv.fr/fr/datasets/referent-contours-des-epci-2023/"
   ]
  },
  {
   "cell_type": "code",
   "execution_count": 314,
   "metadata": {},
   "outputs": [],
   "source": [
    "path_EPCI= '/Users/matthiasmolenat/repos/congestion/data/referents-contours-epci.csv'\n",
    "df_EPCI= pd.read_csv(path_EPCI,delimiter=';')\n",
    "df_EPCI_metro = df_EPCI[df_EPCI['code_epci'].isin(df_metropoles['Code métropole'].unique())]"
   ]
  },
  {
   "cell_type": "markdown",
   "metadata": {},
   "source": [
    "### Profil de consommation par section d'activité"
   ]
  },
  {
   "cell_type": "markdown",
   "metadata": {},
   "source": [
    "https://odre.opendatasoft.com/explore/dataset/soutirages-quotidiens-consolides-rpt-par-section/export/?disjunctive.libelle_tension&disjunctive.secteur_activite_economique&refine.date_de_la_courbe=2023"
   ]
  },
  {
   "cell_type": "code",
   "execution_count": 193,
   "metadata": {},
   "outputs": [],
   "source": [
    "path_profil_secteurs= '/Users/matthiasmolenat/repos/congestion/data/soutirages-quotidiens-consolides-rpt-par-section.csv'\n",
    "df_profil_secteurs= pd.read_csv(path_profil_secteurs,delimiter=';')"
   ]
  },
  {
   "cell_type": "code",
   "execution_count": 194,
   "metadata": {},
   "outputs": [],
   "source": [
    "df_profil_secteurs_grouped = df_profil_secteurs.groupby(['Secteur activité'])\n",
    "df_profil_secteurs_separated = {group_name[0]: sub_df for group_name, sub_df in df_profil_secteurs_grouped}"
   ]
  },
  {
   "cell_type": "code",
   "execution_count": null,
   "metadata": {},
   "outputs": [],
   "source": [
    "print(df_profil_secteurs['Secteur activité'].unique())"
   ]
  },
  {
   "cell_type": "markdown",
   "metadata": {},
   "source": [
    "### Cosommation annuelle par EPCI"
   ]
  },
  {
   "cell_type": "markdown",
   "metadata": {},
   "source": [
    "https://data.enedis.fr/explore/dataset/consommation-electrique-par-secteur-dactivite-epci/table/?sort=conso_moyenne_mwh&refine.annee=2023"
   ]
  },
  {
   "cell_type": "code",
   "execution_count": 291,
   "metadata": {},
   "outputs": [],
   "source": [
    "path_conso_annuel_EPCI= '/Users/matthiasmolenat/repos/congestion/data/consommation-electrique-par-secteur-dactivite-epci.csv'\n",
    "df_conso_annuel_secteurs= pd.read_csv(path_conso_annuel_EPCI,delimiter=';')\n",
    "\n",
    "col_to_drop =[\"Conso moyenne (MWh)\", \"Nombre de mailles secretisées\",\n",
    "       \"Part thermosensible (%)\", \"Conso totale  usages thermosensibles (MWh)\",\n",
    "       \"Conso totale  usages non thermosensibles (MWh)\",\n",
    "       \"Thermosensibilité totale (kWh/DJU)\",\n",
    "       \"Conso totale corrigée de l'aléa climatique  usages thermosensibles (MWh)\",\n",
    "       \"Conso moyenne usages thermosensibles (MWh)\",\n",
    "       \"Conso moyenne  usages non thermosensibles (MWh)\",\n",
    "       \"Thermosensibilité moyenne (kWh/DJU)\",\n",
    "       \"Conso moyenne corrigée de l'aléa climatique  usages thermosensibles (MWh)\",\n",
    "       \"DJU à TR\", \"DJU à TN\", \"Geom\"]\n",
    "df_conso_annuel_secteurs.drop(col_to_drop, axis=1, inplace=True)\n",
    "\n",
    "index_to_drop = df_conso_annuel_secteurs.index[~df_conso_annuel_secteurs['Code EPCI'].str.isdigit()]\n",
    "df_conso_annuel_secteurs.drop(index_to_drop, axis=0, inplace=True)\n",
    "\n"
   ]
  },
  {
   "cell_type": "code",
   "execution_count": null,
   "metadata": {},
   "outputs": [],
   "source": [
    "print(df_conso_annuel_secteurs['CODE GRAND SECTEUR'].unique())\n",
    "print(df_conso_annuel_secteurs['Nom Région'].unique())"
   ]
  },
  {
   "cell_type": "markdown",
   "metadata": {},
   "source": [
    "### Registre national des installations de production et de stockage d'électricité"
   ]
  },
  {
   "cell_type": "markdown",
   "metadata": {},
   "source": [
    "https://odre.opendatasoft.com/explore/dataset/registre-national-installation-production-stockage-electricite-agrege/export/?disjunctive.departement&disjunctive.region&disjunctive.epci&disjunctive.filiere&disjunctive.technologie&disjunctive.combustiblessecondaires&disjunctive.combustible&disjunctive.gestionnaire&disjunctive.regime&sort=combustible"
   ]
  },
  {
   "cell_type": "code",
   "execution_count": 286,
   "metadata": {},
   "outputs": [],
   "source": [
    "path_puissance_installee = '/Users/matthiasmolenat/repos/congestion/data/registre-national-installation-production-stockage-electricite-agrege.csv'\n",
    "df_puissance_installee= pd.read_csv(path_puissance_installee,delimiter=';', low_memory=False)\n",
    "col_to_drop =['idPEPS', 'nomInstallation', 'codeEICResourceObject', 'codeIRIS',\n",
    "       'codeINSEECommune', 'commune', 'EPCI', 'codeDepartement',\n",
    "       'departement', 'codeRegion', 'codeIRISCommuneImplantation', 'energieAnnuelleGlissanteSoutiree',\n",
    "       'codeINSEECommuneImplantation', 'codeS3RENR', 'dateRaccordement',\n",
    "       'dateDeraccordement', 'dateMiseEnService', 'dateDebutVersion',\n",
    "       'tensionRaccordement', 'modeRaccordement','filiere', 'codeFiliere', 'codeCombustible', 'combustible',\n",
    "       'codesCombustiblesSecondaires', 'combustiblesSecondaires', 'posteSource',\n",
    "       'codeTechnologie', 'typeStockage', 'puisMaxInstallee', 'energieAnnuelleGlissanteProduite',\n",
    "       'puisMaxRacCharge', 'puisMaxCharge', 'puisMaxRac', 'energieAnnuelleGlissanteStockee',\n",
    "       'puisMaxInstalleeDisCharge', 'nbGroupes', 'nbInstallations', 'regime',\n",
    "       'energieStockable', 'capaciteReservoir', 'hauteurChute', 'productible',\n",
    "       'debitMaximal', 'codeGestionnaire', 'gestionnaire', 'dateMiseEnservice (format date)']\n",
    "df_puissance_installee.drop(col_to_drop, axis=1, inplace=True)\n",
    "line_to_drop = df_puissance_installee[(df_puissance_installee['region'] == 'Guadeloupe') |\n",
    "                                                         (df_puissance_installee['region'] == 'La Réunion') |\n",
    "                                                         (df_puissance_installee['region'] == 'Guyane') |\n",
    "                                                         (df_puissance_installee['region'] == 'Corse') |\n",
    "                                                         (df_puissance_installee['region'] == 'Martinique')].index\n",
    "df_puissance_installee.drop(line_to_drop, axis=0, inplace=True)\n",
    "df_puissance_installee.dropna(subset=['technologie', 'codeEPCI'], inplace=True)\n",
    "df_puissance_installee['codeEPCI'] = df_puissance_installee['codeEPCI'].astype(int)\n",
    "df_puissance_installee = df_puissance_installee.groupby(['technologie','region', 'codeEPCI']).sum()"
   ]
  },
  {
   "cell_type": "code",
   "execution_count": 287,
   "metadata": {},
   "outputs": [
    {
     "data": {
      "text/html": [
       "<div>\n",
       "<style scoped>\n",
       "    .dataframe tbody tr th:only-of-type {\n",
       "        vertical-align: middle;\n",
       "    }\n",
       "\n",
       "    .dataframe tbody tr th {\n",
       "        vertical-align: top;\n",
       "    }\n",
       "\n",
       "    .dataframe thead th {\n",
       "        text-align: right;\n",
       "    }\n",
       "</style>\n",
       "<table border=\"1\" class=\"dataframe\">\n",
       "  <thead>\n",
       "    <tr style=\"text-align: right;\">\n",
       "      <th></th>\n",
       "      <th></th>\n",
       "      <th></th>\n",
       "      <th>energieAnnuelleGlissanteInjectee</th>\n",
       "      <th>maxPuis</th>\n",
       "    </tr>\n",
       "    <tr>\n",
       "      <th>technologie</th>\n",
       "      <th>region</th>\n",
       "      <th>codeEPCI</th>\n",
       "      <th></th>\n",
       "      <th></th>\n",
       "    </tr>\n",
       "  </thead>\n",
       "  <tbody>\n",
       "    <tr>\n",
       "      <th rowspan=\"5\" valign=\"top\">Autre</th>\n",
       "      <th rowspan=\"5\" valign=\"top\">Auvergne-Rhône-Alpes</th>\n",
       "      <th>200034882</th>\n",
       "      <td>24869906.0</td>\n",
       "      <td>5250.0</td>\n",
       "    </tr>\n",
       "    <tr>\n",
       "      <th>200040491</th>\n",
       "      <td>1472519.0</td>\n",
       "      <td>195.0</td>\n",
       "    </tr>\n",
       "    <tr>\n",
       "      <th>200040681</th>\n",
       "      <td>5216854.0</td>\n",
       "      <td>2152.0</td>\n",
       "    </tr>\n",
       "    <tr>\n",
       "      <th>200040715</th>\n",
       "      <td>12898943.0</td>\n",
       "      <td>3600.0</td>\n",
       "    </tr>\n",
       "    <tr>\n",
       "      <th>200040798</th>\n",
       "      <td>11151.0</td>\n",
       "      <td>4000.0</td>\n",
       "    </tr>\n",
       "  </tbody>\n",
       "</table>\n",
       "</div>"
      ],
      "text/plain": [
       "                                            energieAnnuelleGlissanteInjectee  \\\n",
       "technologie region               codeEPCI                                      \n",
       "Autre       Auvergne-Rhône-Alpes 200034882                        24869906.0   \n",
       "                                 200040491                         1472519.0   \n",
       "                                 200040681                         5216854.0   \n",
       "                                 200040715                        12898943.0   \n",
       "                                 200040798                           11151.0   \n",
       "\n",
       "                                            maxPuis  \n",
       "technologie region               codeEPCI            \n",
       "Autre       Auvergne-Rhône-Alpes 200034882   5250.0  \n",
       "                                 200040491    195.0  \n",
       "                                 200040681   2152.0  \n",
       "                                 200040715   3600.0  \n",
       "                                 200040798   4000.0  "
      ]
     },
     "execution_count": 287,
     "metadata": {},
     "output_type": "execute_result"
    }
   ],
   "source": [
    "df_puissance_installee.head()"
   ]
  },
  {
   "cell_type": "markdown",
   "metadata": {},
   "source": [
    "### Injections régionales quotidiennes consolidées sur le réseau de transport d'électricité (2019 à 2024)"
   ]
  },
  {
   "cell_type": "code",
   "execution_count": null,
   "metadata": {},
   "outputs": [],
   "source": [
    "path_prod_region = '/Users/matthiasmolenat/repos/congestion/data/injections-regionales-quotidiennes-consolidees-rpt.csv'\n",
    "df_prod_region= pd.read_csv(path_prod_region,delimiter=';')\n",
    "df_prod_region.head()"
   ]
  },
  {
   "cell_type": "markdown",
   "metadata": {},
   "source": [
    "## Specific extraction "
   ]
  },
  {
   "cell_type": "markdown",
   "metadata": {},
   "source": [
    "Based on selected layer of tension"
   ]
  },
  {
   "cell_type": "code",
   "execution_count": 271,
   "metadata": {},
   "outputs": [],
   "source": [
    "selected_tension = tension_level[:tension_layer+1]\n",
    "df_postes_RT = df_postes_RT[df_postes_RT['Tension (kV)'].isin(selected_tension)]\n",
    "df_ligne_RT = df_ligne_RT[df_ligne_RT['TENSION'].isin(selected_tension)]\n",
    "df_ligne_RT = df_ligne_RT[df_ligne_RT['Length (m)']>30]\n",
    "df_ligne_RT.reset_index(inplace=True)\n"
   ]
  },
  {
   "cell_type": "code",
   "execution_count": null,
   "metadata": {},
   "outputs": [],
   "source": [
    "df_postes_RT.head()"
   ]
  },
  {
   "cell_type": "markdown",
   "metadata": {},
   "source": [
    "## Exploitation"
   ]
  },
  {
   "cell_type": "markdown",
   "metadata": {},
   "source": [
    "Network as a graph\n",
    "\n",
    "Surpiquage missing"
   ]
  },
  {
   "cell_type": "code",
   "execution_count": null,
   "metadata": {},
   "outputs": [],
   "source": [
    "from scipy.sparse import csr_matrix\n",
    "\n",
    "# Extract the coordinates of the extremities\n",
    "coordinates = []\n",
    "for index, row in df_ligne_RT.iterrows():\n",
    "    geo_data = json.loads(row['Geo Shape'])\n",
    "    coordinates.append(geo_data[\"coordinates\"][0])  # Start point\n",
    "    coordinates.append(geo_data[\"coordinates\"][-1])  # End point\n",
    "\n",
    "# Calculate the distance matrix\n",
    "dist_matrix = distance_matrix_geodesic(coordinates)\n",
    "\n",
    "# Create a sparse matrix with edges where distance is less than or equal to 200 meters\n",
    "threshold = 30  # distance in coordinates\n",
    "adjacency_matrix = (dist_matrix <= threshold).astype(int)\n",
    "\n",
    "# Convert to sparse matrix\n",
    "sparse_matrix = csr_matrix(adjacency_matrix)\n",
    "sparse_matrix.setdiag(0)\n",
    "print(sparse_matrix)\n",
    "\n"
   ]
  },
  {
   "cell_type": "markdown",
   "metadata": {},
   "source": [
    "Compare injection and consumption by EPCI"
   ]
  },
  {
   "cell_type": "code",
   "execution_count": 315,
   "metadata": {},
   "outputs": [],
   "source": [
    "df_conso_per_EPCI = df_conso_annuel_secteurs.groupby(['Code EPCI']).sum()\n",
    "df_conso_per_EPCI.index = df_conso_per_EPCI.index.astype(int)\n",
    "df_conso_per_EPCI = df_conso_per_EPCI['Conso totale (MWh)']\n",
    "\n",
    "\n",
    "df_prod_per_EPCI = df_puissance_installee.groupby(['codeEPCI']).sum()\n",
    "df_prod_per_EPCI.index = df_prod_per_EPCI.index.astype(int)\n",
    "df_prod_per_EPCI = df_prod_per_EPCI['energieAnnuelleGlissanteInjectee']\n",
    "\n",
    "df_compared = pd.merge(df_conso_per_EPCI, df_prod_per_EPCI, right_index= True, left_index= True, how='inner')\n",
    "df_compared = pd.merge(df_EPCI[['geo_shape','code_epci']], df_compared, right_index= True, left_on= 'code_epci', how='inner')\n",
    "df_compared['Injection totale (MWh)'] = df_compared['energieAnnuelleGlissanteInjectee']/1000\n",
    "df_compared.drop(['energieAnnuelleGlissanteInjectee'], axis=1, inplace=True)\n",
    "df_compared['ratio prod/conso %'] = df_compared['Injection totale (MWh)']/df_compared['Conso totale (MWh)']*100\n"
   ]
  },
  {
   "cell_type": "code",
   "execution_count": 316,
   "metadata": {},
   "outputs": [
    {
     "data": {
      "text/html": [
       "<div>\n",
       "<style scoped>\n",
       "    .dataframe tbody tr th:only-of-type {\n",
       "        vertical-align: middle;\n",
       "    }\n",
       "\n",
       "    .dataframe tbody tr th {\n",
       "        vertical-align: top;\n",
       "    }\n",
       "\n",
       "    .dataframe thead th {\n",
       "        text-align: right;\n",
       "    }\n",
       "</style>\n",
       "<table border=\"1\" class=\"dataframe\">\n",
       "  <thead>\n",
       "    <tr style=\"text-align: right;\">\n",
       "      <th></th>\n",
       "      <th>geo_shape</th>\n",
       "      <th>code_epci</th>\n",
       "      <th>Conso totale (MWh)</th>\n",
       "      <th>Injection totale (MWh)</th>\n",
       "      <th>ratio prod/conso %</th>\n",
       "    </tr>\n",
       "  </thead>\n",
       "  <tbody>\n",
       "    <tr>\n",
       "      <th>0</th>\n",
       "      <td>{\"coordinates\": [[[0.604566, 45.694384], [0.60...</td>\n",
       "      <td>200072049</td>\n",
       "      <td>220739.167</td>\n",
       "      <td>206915.907</td>\n",
       "      <td>93.737740</td>\n",
       "    </tr>\n",
       "    <tr>\n",
       "      <th>1</th>\n",
       "      <td>{\"coordinates\": [[[2.311766, 43.115752], [2.29...</td>\n",
       "      <td>200035715</td>\n",
       "      <td>543237.324</td>\n",
       "      <td>144961.473</td>\n",
       "      <td>26.684741</td>\n",
       "    </tr>\n",
       "    <tr>\n",
       "      <th>2</th>\n",
       "      <td>{\"coordinates\": [[[2.097452, 43.964379], [2.08...</td>\n",
       "      <td>200040905</td>\n",
       "      <td>59230.955</td>\n",
       "      <td>83066.811</td>\n",
       "      <td>140.242228</td>\n",
       "    </tr>\n",
       "    <tr>\n",
       "      <th>3</th>\n",
       "      <td>{\"coordinates\": [[[5.68684, 45.484412], [5.672...</td>\n",
       "      <td>200068567</td>\n",
       "      <td>359376.797</td>\n",
       "      <td>15580.193</td>\n",
       "      <td>4.335336</td>\n",
       "    </tr>\n",
       "    <tr>\n",
       "      <th>4</th>\n",
       "      <td>{\"coordinates\": [[[1.879758, 48.440855], [1.86...</td>\n",
       "      <td>200073344</td>\n",
       "      <td>400276.733</td>\n",
       "      <td>49293.255</td>\n",
       "      <td>12.314794</td>\n",
       "    </tr>\n",
       "  </tbody>\n",
       "</table>\n",
       "</div>"
      ],
      "text/plain": [
       "                                           geo_shape  code_epci  \\\n",
       "0  {\"coordinates\": [[[0.604566, 45.694384], [0.60...  200072049   \n",
       "1  {\"coordinates\": [[[2.311766, 43.115752], [2.29...  200035715   \n",
       "2  {\"coordinates\": [[[2.097452, 43.964379], [2.08...  200040905   \n",
       "3  {\"coordinates\": [[[5.68684, 45.484412], [5.672...  200068567   \n",
       "4  {\"coordinates\": [[[1.879758, 48.440855], [1.86...  200073344   \n",
       "\n",
       "   Conso totale (MWh)  Injection totale (MWh)  ratio prod/conso %  \n",
       "0          220739.167              206915.907           93.737740  \n",
       "1          543237.324              144961.473           26.684741  \n",
       "2           59230.955               83066.811          140.242228  \n",
       "3          359376.797               15580.193            4.335336  \n",
       "4          400276.733               49293.255           12.314794  "
      ]
     },
     "execution_count": 316,
     "metadata": {},
     "output_type": "execute_result"
    }
   ],
   "source": [
    "df_compared.head()"
   ]
  },
  {
   "cell_type": "code",
   "execution_count": 319,
   "metadata": {},
   "outputs": [
    {
     "data": {
      "text/plain": [
       "0.10      2.207254\n",
       "0.25      7.255577\n",
       "0.50     20.807657\n",
       "0.75     69.969697\n",
       "0.90    294.978074\n",
       "Name: ratio prod/conso %, dtype: float64"
      ]
     },
     "execution_count": 319,
     "metadata": {},
     "output_type": "execute_result"
    }
   ],
   "source": [
    "df_compared['ratio prod/conso %'].quantile([.1, 0.25,0.5,0.75, .9])"
   ]
  },
  {
   "cell_type": "markdown",
   "metadata": {},
   "source": [
    "## Exploitation "
   ]
  },
  {
   "cell_type": "markdown",
   "metadata": {},
   "source": [
    "- Définir des scénarios de puissance types : 2 journées (week-end / jour férié + milieu de semaine) pour chaque mois de l'année, pour un total de 24 scénario à faire tourner.\n",
    "- Associer les puissances de produciton et de consommation aux postes considérables les plus proches. Utiliser les centroïdes.\n",
    "- Faire un écoulement de puissance optimal pour déterminer la dynamique des flux dans le réseau."
   ]
  },
  {
   "cell_type": "markdown",
   "metadata": {},
   "source": [
    "## Visualisation"
   ]
  },
  {
   "cell_type": "markdown",
   "metadata": {},
   "source": [
    "Visualisation des lignes"
   ]
  },
  {
   "cell_type": "code",
   "execution_count": null,
   "metadata": {},
   "outputs": [],
   "source": [
    "show_map_lines(df_ligne_RT, True)\n"
   ]
  },
  {
   "cell_type": "markdown",
   "metadata": {},
   "source": [
    "Visualisation de EPCI avec ratio production"
   ]
  },
  {
   "cell_type": "code",
   "execution_count": null,
   "metadata": {},
   "outputs": [],
   "source": []
  },
  {
   "cell_type": "markdown",
   "metadata": {},
   "source": []
  }
 ],
 "metadata": {
  "kernelspec": {
   "display_name": ".venv",
   "language": "python",
   "name": "python3"
  },
  "language_info": {
   "codemirror_mode": {
    "name": "ipython",
    "version": 3
   },
   "file_extension": ".py",
   "mimetype": "text/x-python",
   "name": "python",
   "nbconvert_exporter": "python",
   "pygments_lexer": "ipython3",
   "version": "3.11.8"
  }
 },
 "nbformat": 4,
 "nbformat_minor": 2
}
