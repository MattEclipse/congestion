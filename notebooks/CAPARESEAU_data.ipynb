{
 "cells": [
  {
   "cell_type": "markdown",
   "metadata": {},
   "source": [
    "# Expoloitation de donnnées"
   ]
  },
  {
   "cell_type": "code",
   "execution_count": 46,
   "metadata": {},
   "outputs": [],
   "source": [
    "import pandas as pd"
   ]
  },
  {
   "cell_type": "markdown",
   "metadata": {},
   "source": [
    "## DATA"
   ]
  },
  {
   "cell_type": "markdown",
   "metadata": {},
   "source": [
    "### Capacité d'accueil\n",
    "\n",
    "https://www.capareseau.fr/#"
   ]
  },
  {
   "cell_type": "code",
   "execution_count": 60,
   "metadata": {},
   "outputs": [],
   "source": [
    "current_file = '2412_CapacitesDAccueil'\n",
    "root = '/Users/matthiasmolenat/repos/congestion/data/'\n",
    "path_capa_accueil = f'{root}{current_file}.csv'\n",
    "path_corrected_capa_accueil = f'{root}corrected_{current_file}.csv'"
   ]
  },
  {
   "cell_type": "code",
   "execution_count": 59,
   "metadata": {},
   "outputs": [],
   "source": [
    "with open(path_capa_accueil, 'r', encoding='utf-8') as file:\n",
    "    content = file.read()\n",
    "    \n",
    "modified_content = content.replace('RH�NE', 'RHONE')\n",
    "modified_content = modified_content.replace('k�', 'k€')\n",
    "modified_content = modified_content.replace('�?', 'é') \n",
    "modified_content = modified_content.replace('e?', 'é') \n",
    "modified_content = modified_content.replace('d�un', \"d'un\") \n",
    "modified_content = modified_content.replace(' � ', \"à\") \n",
    "modified_content = modified_content.replace('�', \"é\") \n",
    "\n",
    "# Write the modified content to a new CSV file\n",
    "with open(path_corrected_capa_accueil, 'w', encoding='utf-8') as file:\n",
    "    file.write(modified_content)"
   ]
  },
  {
   "cell_type": "code",
   "execution_count": 56,
   "metadata": {},
   "outputs": [
    {
     "name": "stdout",
     "output_type": "stream",
     "text": [
      "[\"Capacite d'accueil reservee au titre du S3REnR, disponible vue du reseau public de transport \", 'Puissance cumulee des transformateurs existants', 'Nombre de transformateurs supplementaires possible', 'Nombre de transformateurs existants', \"Capacite de transformation HTB/HTA restante disponible pour l'injection sur le reseau public de distribution\", 'Puissance cumulee des transformateurs existants.1', 'Nombre de transformateurs supplementaires possible.1', 'Nombre de transformateurs existants.1', \"Capacite de transformation HTB/HTA restante disponible pour l'injection sur le reseau public de distribution.1\"]\n"
     ]
    }
   ],
   "source": [
    "df_capa_accueil = pd.read_csv(path_corrected_capa_accueil,delimiter=';')\n",
    "col_tension= [x for x in df_capa_accueil.columns if 'trans' in x.lower()]\n",
    "print(col_tension)\n"
   ]
  },
  {
   "cell_type": "code",
   "execution_count": 50,
   "metadata": {},
   "outputs": [
    {
     "data": {
      "text/plain": [
       "array([['AIVDT', 'AIRVAUDAIS ET VAL DU THOUET', 'NOUVELLE-AQUITAINE',\n",
       "        '74%', 455620.34, 6641383.5, 0.0, 15.4, 41.6, 0.0, 15.4, 57.0,\n",
       "        '29/12/2023 : -20 MW vers SUD VIENNE | 02/02/2024 : -3 MW vers PARTHENAY',\n",
       "        '89.94 k€/MW', nan, 0.0, 0.0,\n",
       "        'Création du poste 225 kV déAIRVAUDAIS - VAL-DU-THOUET', nan,\n",
       "        nan, 0.0, 0.0, '3.0', nan, nan, '20.0', '225.0',\n",
       "        \"Création du poste et raccordement d'un TR 225/20\", nan, 80.0,\n",
       "        0.0, nan, nan, nan, nan, nan, nan, nan, nan, nan, nan, nan, nan,\n",
       "        nan, nan, nan]], dtype=object)"
      ]
     },
     "execution_count": 50,
     "metadata": {},
     "output_type": "execute_result"
    }
   ],
   "source": [
    "df_grouped = df_capa_accueil[df_capa_accueil['Puissance cumulée des transformateurs existants'] == 0].groupby(['Tension amont', 'Tension aval'])\n",
    "\n",
    "df_capa_accueil[(df_capa_accueil['Tension amont'] == '225.0') & (df_capa_accueil['Tension aval'] == '20.0') & (df_capa_accueil['Puissance cumulée des transformateurs existants'] == 0)].values"
   ]
  },
  {
   "cell_type": "code",
   "execution_count": 51,
   "metadata": {},
   "outputs": [
    {
     "name": "stdout",
     "output_type": "stream",
     "text": [
      "Tension amont  Tension aval\n",
      "10.0           21.0            0\n",
      "15.0           63.0            0\n",
      "150.0          21.0            0\n",
      "20.0           10.0            0\n",
      "               63.0            0\n",
      "225.0          10.0            0\n",
      "               15-20           0\n",
      "               15.0            0\n",
      "               16.0            0\n",
      "               18.0            0\n",
      "               20.0            1\n",
      "               21.0            0\n",
      "227.0          10.0            0\n",
      "               15.0            0\n",
      "               16.0            0\n",
      "               18.0            0\n",
      "               20.0            0\n",
      "               21.0            0\n",
      "45.0           20.0            0\n",
      "               21.0            0\n",
      "6.0            21.0            0\n",
      "62.0           10.0            0\n",
      "               15.0            0\n",
      "               16.0            0\n",
      "               19.0            0\n",
      "               20.0            0\n",
      "               21.0            0\n",
      "               24.0            0\n",
      "63.0           10.0            0\n",
      "               14.0            0\n",
      "               15.0            0\n",
      "               16.0            0\n",
      "               20.0            1\n",
      "               21.0            0\n",
      "               24.0            0\n",
      "63kV           15kV - 20kV     1\n",
      "               20kV            1\n",
      "72.0           21.0            0\n",
      "90 kV          20 kV           0\n",
      "90.0           10.0            0\n",
      "               15-20           0\n",
      "               15.0            0\n",
      "               16.0            0\n",
      "               18.0            0\n",
      "               20.0            1\n",
      "               21.0            0\n",
      "               24.0            0\n",
      "               30.0            0\n",
      "90kV           15kV            0\n",
      "Name: Puissance cumulée des transformateurs existants, dtype: int64\n"
     ]
    }
   ],
   "source": [
    "df_grouped = df_capa_accueil.groupby(['Tension amont', 'Tension aval'])['Puissance cumulée des transformateurs existants'].apply(lambda x: (x.fillna(0) == 0).sum())\n",
    "print(df_grouped)"
   ]
  },
  {
   "cell_type": "markdown",
   "metadata": {},
   "source": [
    "### Contraintes réseau \n",
    "\n",
    "Par exemple pour Rhone Alpes :\n",
    "\n",
    "https://www.contraintes-reseau-s3renr-rte.com/region/auvergne-rhône-alpes"
   ]
  },
  {
   "cell_type": "code",
   "execution_count": 52,
   "metadata": {},
   "outputs": [],
   "source": [
    "path_contraintes_ARA = '/Users/matthiasmolenat/repos/congestion/data/contraintes_ARA.csv'\n",
    "df_contraintes_ARA = pd.read_csv(path_contraintes_ARA, delimiter=';')"
   ]
  },
  {
   "cell_type": "code",
   "execution_count": 53,
   "metadata": {},
   "outputs": [
    {
     "data": {
      "text/html": [
       "<div>\n",
       "<style scoped>\n",
       "    .dataframe tbody tr th:only-of-type {\n",
       "        vertical-align: middle;\n",
       "    }\n",
       "\n",
       "    .dataframe tbody tr th {\n",
       "        vertical-align: top;\n",
       "    }\n",
       "\n",
       "    .dataframe thead th {\n",
       "        text-align: right;\n",
       "    }\n",
       "</style>\n",
       "<table border=\"1\" class=\"dataframe\">\n",
       "  <thead>\n",
       "    <tr style=\"text-align: right;\">\n",
       "      <th></th>\n",
       "      <th></th>\n",
       "      <th></th>\n",
       "      <th></th>\n",
       "      <th></th>\n",
       "      <th>Donnees de la region</th>\n",
       "    </tr>\n",
       "  </thead>\n",
       "  <tbody>\n",
       "    <tr>\n",
       "      <th>Puissance ENR installee</th>\n",
       "      <th>Puissance Totale a compenser</th>\n",
       "      <th>Energie non-evacuee moyenne Printemps</th>\n",
       "      <th>Energie non-evacuee moyenne Ete</th>\n",
       "      <th>Energie non-evacuee moyenne Automne</th>\n",
       "      <td>Energie non-evacuee moyenne Hiver</td>\n",
       "    </tr>\n",
       "    <tr>\n",
       "      <th>13251MW</th>\n",
       "      <th>83.00MW</th>\n",
       "      <th>23.00MWh</th>\n",
       "      <th>1049.00MWh</th>\n",
       "      <th>14.00MWh</th>\n",
       "      <td>0.00MWh</td>\n",
       "    </tr>\n",
       "    <tr>\n",
       "      <th>Donnees de zones de la region</th>\n",
       "      <th>NaN</th>\n",
       "      <th>NaN</th>\n",
       "      <th>NaN</th>\n",
       "      <th>NaN</th>\n",
       "      <td>NaN</td>\n",
       "    </tr>\n",
       "    <tr>\n",
       "      <th>Zone</th>\n",
       "      <th>Puissance totale a compenser</th>\n",
       "      <th>Nombre de contraintes</th>\n",
       "      <th>Energie non-evacuee moyenne</th>\n",
       "      <th>NaN</th>\n",
       "      <td>NaN</td>\n",
       "    </tr>\n",
       "    <tr>\n",
       "      <th>Ain</th>\n",
       "      <th>6.00</th>\n",
       "      <th>3</th>\n",
       "      <th>526MWh/an</th>\n",
       "      <th>NaN</th>\n",
       "      <td>NaN</td>\n",
       "    </tr>\n",
       "  </tbody>\n",
       "</table>\n",
       "</div>"
      ],
      "text/plain": [
       "                                                                                                                                                                                   Donnees de la region\n",
       "Puissance ENR installee       Puissance Totale a compenser Energie non-evacuee moyenne Printemps Energie non-evacuee moyenne Ete Energie non-evacuee moyenne Automne  Energie non-evacuee moyenne Hiver\n",
       "13251MW                       83.00MW                      23.00MWh                              1049.00MWh                      14.00MWh                                                       0.00MWh\n",
       "Donnees de zones de la region NaN                          NaN                                   NaN                             NaN                                                                NaN\n",
       "Zone                          Puissance totale a compenser Nombre de contraintes                 Energie non-evacuee moyenne     NaN                                                                NaN\n",
       "Ain                           6.00                         3                                     526MWh/an                       NaN                                                                NaN"
      ]
     },
     "execution_count": 53,
     "metadata": {},
     "output_type": "execute_result"
    }
   ],
   "source": [
    "df_contraintes_ARA.head()"
   ]
  }
 ],
 "metadata": {
  "kernelspec": {
   "display_name": ".venv",
   "language": "python",
   "name": "python3"
  },
  "language_info": {
   "codemirror_mode": {
    "name": "ipython",
    "version": 3
   },
   "file_extension": ".py",
   "mimetype": "text/x-python",
   "name": "python",
   "nbconvert_exporter": "python",
   "pygments_lexer": "ipython3",
   "version": "3.11.8"
  }
 },
 "nbformat": 4,
 "nbformat_minor": 2
}
