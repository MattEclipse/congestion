{
 "cells": [
  {
   "cell_type": "markdown",
   "metadata": {},
   "source": [
    "# Expoloitation de donnnées"
   ]
  },
  {
   "cell_type": "code",
   "execution_count": 22,
   "metadata": {},
   "outputs": [],
   "source": [
    "import pandas as pd"
   ]
  },
  {
   "cell_type": "markdown",
   "metadata": {},
   "source": [
    "## DATA"
   ]
  },
  {
   "cell_type": "markdown",
   "metadata": {},
   "source": [
    "### Capacité d'accueil\n",
    "\n",
    "https://www.capareseau.fr/#"
   ]
  },
  {
   "cell_type": "code",
   "execution_count": 23,
   "metadata": {},
   "outputs": [],
   "source": [
    "current_file = '2501_CapacitesDAccueil'\n",
    "root = '/Users/matthiasmolenat/repos/congestion/data/'\n",
    "path_capa_accueil = f'{root}{current_file}.csv'\n",
    "path_corrected_capa_accueil = f'{root}corrected_{current_file}.csv'"
   ]
  },
  {
   "cell_type": "code",
   "execution_count": 24,
   "metadata": {},
   "outputs": [],
   "source": [
    "with open(path_capa_accueil, 'r', encoding='utf-8') as file:\n",
    "    content = file.read()\n",
    "    \n",
    "modified_content = content.replace('RH�NE', 'RHONE')\n",
    "modified_content = modified_content.replace('k�', 'k€')\n",
    "modified_content = modified_content.replace('�?', 'é') \n",
    "modified_content = modified_content.replace('e?', 'é') \n",
    "modified_content = modified_content.replace('d�un', \"d'un\") \n",
    "modified_content = modified_content.replace(' � ', \"à\") \n",
    "modified_content = modified_content.replace('�', \"é\") \n",
    "\n",
    "# Write the modified content to a new CSV file\n",
    "with open(path_corrected_capa_accueil, 'w', encoding='utf-8') as file:\n",
    "    file.write(modified_content)"
   ]
  },
  {
   "cell_type": "code",
   "execution_count": 25,
   "metadata": {},
   "outputs": [],
   "source": [
    "df = pd.read_csv(path_corrected_capa_accueil, sep=';')"
   ]
  },
  {
   "cell_type": "code",
   "execution_count": 26,
   "metadata": {},
   "outputs": [],
   "source": [
    "# sous-tirage \n",
    "df[\"ratio_congestion_sous_tirage\"] = 5*df[\"Consommation minimale\"]/df[\"Puissance cumulée des transformateurs existants\"]*100\n",
    "df = df[df[\"ratio_congestion_sous_tirage\"]<110]\n",
    "df = df[~df['ratio_congestion_sous_tirage'].isna()]\n",
    "df[\"ratio_congestion_sous_tirage\"] = df[\"ratio_congestion_sous_tirage\"].astype(int)\n",
    "df[\"RAM_sous_tirage\"] = (1 -  df[\"ratio_congestion_sous_tirage\"]/100)*df[\"Puissance cumulée des transformateurs existants\"]\n",
    "\n",
    "\n",
    "# injection \n",
    "df[\"projet_injection\"] = df['Puissance EnR déjé raccordée'] + df[\"Puissance des projets EnR en développement\"] + df[\"Puissance en file d'attente hors S3REnR majorée de la capacité réservée du S3REnR\"]\n",
    "df[\"ratio_congestion_injection\"] = df[\"projet_injection\"]  / df[\"Capacité de transformation HTB/HTA restante disponible pour l'injection sur le réseau public de distribution\"]*100\n",
    "df[\"ratio_congestion_injection\"] = [100 if x > 100 else x for x in df[\"ratio_congestion_injection\"].to_list()] \n",
    "df = df[~df['ratio_congestion_injection'].isna()]\n",
    "df[\"ratio_congestion_injection\"] = df[\"ratio_congestion_injection\"].astype(int)\n",
    "df[\"RAM_injection\"] = (1-df[\"ratio_congestion_injection\"]/100)*df[\"Capacité de transformation HTB/HTA restante disponible pour l'injection sur le réseau public de distribution\"]\n",
    "\n",
    "# intersection\n",
    "df['min_RAM'] = [min(df['RAM_sous_tirage'].iloc[i],df['RAM_injection'].iloc[i]) for i in range(len(df))]"
   ]
  },
  {
   "cell_type": "code",
   "execution_count": 27,
   "metadata": {},
   "outputs": [],
   "source": [
    "df.to_csv(path_corrected_capa_accueil)"
   ]
  },
  {
   "cell_type": "markdown",
   "metadata": {},
   "source": [
    "### Contraintes réseau \n",
    "\n",
    "Par exemple pour Rhone Alpes :\n",
    "\n",
    "https://www.contraintes-reseau-s3renr-rte.com/region/auvergne-rhône-alpes"
   ]
  },
  {
   "cell_type": "code",
   "execution_count": 21,
   "metadata": {},
   "outputs": [],
   "source": [
    "path_contraintes_ARA = '/Users/matthiasmolenat/repos/congestion/data/contraintes_ARA.csv'\n",
    "df_contraintes_ARA = pd.read_csv(path_contraintes_ARA, delimiter=';')"
   ]
  },
  {
   "cell_type": "code",
   "execution_count": 9,
   "metadata": {},
   "outputs": [
    {
     "data": {
      "text/html": [
       "<div>\n",
       "<style scoped>\n",
       "    .dataframe tbody tr th:only-of-type {\n",
       "        vertical-align: middle;\n",
       "    }\n",
       "\n",
       "    .dataframe tbody tr th {\n",
       "        vertical-align: top;\n",
       "    }\n",
       "\n",
       "    .dataframe thead th {\n",
       "        text-align: right;\n",
       "    }\n",
       "</style>\n",
       "<table border=\"1\" class=\"dataframe\">\n",
       "  <thead>\n",
       "    <tr style=\"text-align: right;\">\n",
       "      <th></th>\n",
       "      <th></th>\n",
       "      <th></th>\n",
       "      <th></th>\n",
       "      <th></th>\n",
       "      <th>Donnees de la region</th>\n",
       "    </tr>\n",
       "  </thead>\n",
       "  <tbody>\n",
       "    <tr>\n",
       "      <th>Puissance ENR installee</th>\n",
       "      <th>Puissance Totale a compenser</th>\n",
       "      <th>Energie non-evacuee moyenne Printemps</th>\n",
       "      <th>Energie non-evacuee moyenne Ete</th>\n",
       "      <th>Energie non-evacuee moyenne Automne</th>\n",
       "      <td>Energie non-evacuee moyenne Hiver</td>\n",
       "    </tr>\n",
       "    <tr>\n",
       "      <th>13251MW</th>\n",
       "      <th>83.00MW</th>\n",
       "      <th>23.00MWh</th>\n",
       "      <th>1049.00MWh</th>\n",
       "      <th>14.00MWh</th>\n",
       "      <td>0.00MWh</td>\n",
       "    </tr>\n",
       "    <tr>\n",
       "      <th>Donnees de zones de la region</th>\n",
       "      <th>NaN</th>\n",
       "      <th>NaN</th>\n",
       "      <th>NaN</th>\n",
       "      <th>NaN</th>\n",
       "      <td>NaN</td>\n",
       "    </tr>\n",
       "    <tr>\n",
       "      <th>Zone</th>\n",
       "      <th>Puissance totale a compenser</th>\n",
       "      <th>Nombre de contraintes</th>\n",
       "      <th>Energie non-evacuee moyenne</th>\n",
       "      <th>NaN</th>\n",
       "      <td>NaN</td>\n",
       "    </tr>\n",
       "    <tr>\n",
       "      <th>Ain</th>\n",
       "      <th>6.00</th>\n",
       "      <th>3</th>\n",
       "      <th>526MWh/an</th>\n",
       "      <th>NaN</th>\n",
       "      <td>NaN</td>\n",
       "    </tr>\n",
       "  </tbody>\n",
       "</table>\n",
       "</div>"
      ],
      "text/plain": [
       "                                                                                                                                                                                   Donnees de la region\n",
       "Puissance ENR installee       Puissance Totale a compenser Energie non-evacuee moyenne Printemps Energie non-evacuee moyenne Ete Energie non-evacuee moyenne Automne  Energie non-evacuee moyenne Hiver\n",
       "13251MW                       83.00MW                      23.00MWh                              1049.00MWh                      14.00MWh                                                       0.00MWh\n",
       "Donnees de zones de la region NaN                          NaN                                   NaN                             NaN                                                                NaN\n",
       "Zone                          Puissance totale a compenser Nombre de contraintes                 Energie non-evacuee moyenne     NaN                                                                NaN\n",
       "Ain                           6.00                         3                                     526MWh/an                       NaN                                                                NaN"
      ]
     },
     "execution_count": 9,
     "metadata": {},
     "output_type": "execute_result"
    }
   ],
   "source": [
    "df_contraintes_ARA.head()"
   ]
  }
 ],
 "metadata": {
  "kernelspec": {
   "display_name": ".venv",
   "language": "python",
   "name": "python3"
  },
  "language_info": {
   "codemirror_mode": {
    "name": "ipython",
    "version": 3
   },
   "file_extension": ".py",
   "mimetype": "text/x-python",
   "name": "python",
   "nbconvert_exporter": "python",
   "pygments_lexer": "ipython3",
   "version": "3.11.8"
  }
 },
 "nbformat": 4,
 "nbformat_minor": 2
}
