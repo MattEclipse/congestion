{
 "cells": [
  {
   "cell_type": "markdown",
   "metadata": {},
   "source": [
    "# Donnée Static Grid Model\n",
    "\n",
    "1. Accès au dataset des lignes françaises du GRT RTE en date de 2019. Données en accès : I_max saisonniers, stations, longueurs, caractéristiques\n",
    "Source : https://www.services-rte.com/en/learn-more-about-our-services/static-grid-model.html\n",
    "Problèmes éventuels : données lacunaire et datées (2019)\n",
    "\n",
    "2. Dataset : [Lignes aériennes RTE – nouveau découpage (au 10 juin 2024)](https://odre.opendatasoft.com/explore/dataset/lignes-aeriennes-rte-nv/information/?disjunctive.etat&disjunctive.tension&dataChart=eyJxdWVyaWVzIjpbeyJjaGFydHMiOlt7InR5cGUiOiJjb2x1bW4iLCJmdW5jIjoiQ09VTlQiLCJ5QXhpcyI6ImxvbmdpdHVkZV9kZWJ1dF9zZWdtZW50Iiwic2NpZW50aWZpY0Rpc3BsYXkiOnRydWUsImNvbG9yIjoicmFuZ2UtQWNjZW50In1dLCJ4QXhpcyI6InRlbnNpb24iLCJtYXhwb2ludHMiOm51bGwsInNvcnQiOiIiLCJzZXJpZXNCcmVha2Rvd24iOiJldGF0Iiwic2VyaWVzQnJlYWtkb3duVGltZXNjYWxlIjoiIiwiY29uZmlnIjp7ImRhdGFzZXQiOiJsaWduZXMtYWVyaWVubmVzLXJ0ZS1udiIsIm9wdGlvbnMiOnsiZGlzanVuY3RpdmUuZXRhdCI6dHJ1ZSwiZGlzanVuY3RpdmUudGVuc2lvbiI6dHJ1ZX19fV0sInRpbWVzY2FsZSI6IiIsImRpc3BsYXlMZWdlbmQiOnRydWUsImFsaWduTW9udGgiOnRydWV9&location=13,45.56282,4.83351&basemap=jawg.light) / "
   ]
  },
  {
   "cell_type": "markdown",
   "metadata": {},
   "source": [
    "## Importations de librairie"
   ]
  },
  {
   "cell_type": "code",
   "execution_count": null,
   "metadata": {},
   "outputs": [],
   "source": [
    "import pandas as pd\n",
    "import matplotlib.pyplot as plt\n",
    "import numpy as np\n",
    "import json \n",
    "import seaborn as sns\n",
    "import utm\n",
    "\n",
    "import plotly.express as px\n",
    "import plotly.graph_objects as go\n",
    "\n",
    "from sklearn.cluster import DBSCAN\n",
    "from sklearn.linear_model import LinearRegression\n",
    "\n",
    "from utils import *\n",
    "\n",
    "import os"
   ]
  },
  {
   "cell_type": "markdown",
   "metadata": {},
   "source": [
    "## DATA Lignes"
   ]
  },
  {
   "cell_type": "markdown",
   "metadata": {},
   "source": [
    "### Ligne 2019 + caractéristiques : THT"
   ]
  },
  {
   "cell_type": "markdown",
   "metadata": {},
   "source": [
    "#### Ouvrir le dataset"
   ]
  },
  {
   "cell_type": "code",
   "execution_count": null,
   "metadata": {},
   "outputs": [],
   "source": [
    "path = '/Users/matthiasmolenat/repos/congestion/data/RT_ligne_2019.csv'\n",
    "df_ligne_RT_2019 = pd.read_csv(path,delimiter=';', decimal=',',index_col=False)\n",
    "df_ligne_RT_2019.drop('Unnamed: 14', axis = 1, inplace=True)\n",
    "df_ligne_RT_2019.head()"
   ]
  },
  {
   "cell_type": "code",
   "execution_count": null,
   "metadata": {},
   "outputs": [],
   "source": [
    "print(f'Shapde : {df_ligne_RT_2019.shape}')\n",
    "print(f'Column names : {df_ligne_RT_2019.columns}')"
   ]
  },
  {
   "cell_type": "markdown",
   "metadata": {},
   "source": [
    "#### Remplacer les nan values dans les lignes s'il existe un doublon fourni en information."
   ]
  },
  {
   "cell_type": "code",
   "execution_count": null,
   "metadata": {},
   "outputs": [],
   "source": [
    "# Group by the columns `sub_1_short`, `sub_2_short`, and `Voltage level (kV)`\n",
    "group_cols = ['sub_1_short', 'sub_2_short', 'Voltage level (kV)']\n",
    "df_filled = (\n",
    "    df_ligne_RT_2019.groupby(group_cols)\n",
    "    .apply(lambda group: group.ffill().bfill() , include_groups=False)\n",
    ")\n",
    "# Remove the multi-index introduced by `groupby().apply()`\n",
    "df_ligne_RT_2019 = df_filled.reset_index(drop=False)"
   ]
  },
  {
   "cell_type": "markdown",
   "metadata": {},
   "source": [
    "#### Drop les lignes de taille nulle"
   ]
  },
  {
   "cell_type": "code",
   "execution_count": null,
   "metadata": {},
   "outputs": [],
   "source": [
    "df_ligne_RT_2019 =  df_ligne_RT_2019[df_ligne_RT_2019['Length (m)'] > 0]\n",
    "print(f'Number of Nan values : {df_ligne_RT_2019.isna().sum().sum()}')"
   ]
  },
  {
   "cell_type": "markdown",
   "metadata": {},
   "source": [
    "#### Drop les nans restants"
   ]
  },
  {
   "cell_type": "code",
   "execution_count": null,
   "metadata": {},
   "outputs": [],
   "source": [
    "df_ligne_RT_2019.dropna(inplace=True)"
   ]
  },
  {
   "cell_type": "markdown",
   "metadata": {},
   "source": [
    "#### Visualisation : Lignes associées à un poste"
   ]
  },
  {
   "cell_type": "code",
   "execution_count": null,
   "metadata": {},
   "outputs": [],
   "source": [
    "df_poste_spe = get_row_with_str(df_ligne_RT_2019, 'MONTEUX')\n",
    "df_poste_spe.head(20)"
   ]
  },
  {
   "cell_type": "markdown",
   "metadata": {},
   "source": [
    "#### Ajout de colonnes types"
   ]
  },
  {
   "cell_type": "code",
   "execution_count": null,
   "metadata": {},
   "outputs": [],
   "source": [
    "df_ligne_RT_2019['P_max_summer (MW)']=df_ligne_RT_2019['Voltage level (kV)']*df_ligne_RT_2019['I_max_Summer']/1000\n",
    "df_ligne_RT_2019['R/length'] = df_ligne_RT_2019['Resistance R (Ω)'] / df_ligne_RT_2019['Length (m)'] "
   ]
  },
  {
   "cell_type": "markdown",
   "metadata": {},
   "source": [
    "#### Récupération de donnée types :"
   ]
  },
  {
   "cell_type": "markdown",
   "metadata": {},
   "source": [
    "On cherche à obtenir des grandeurs type de caractéristiques physiques pour compléter des données lacunaires. \n",
    "\n",
    "Hypothèse : Pour un type de ligne donné (voltage level), les grandeurs :\n",
    "- $\\frac{resistance}{longueur}$,\n",
    "- $\\frac{reactance}{longueur}$,\n",
    "\n",
    "se conserve. \n",
    "\n",
    "Une étude supplémentaire doit être mené pour la valeur de $I_{max}$"
   ]
  },
  {
   "cell_type": "markdown",
   "metadata": {},
   "source": [
    "##### Résistances & réactances"
   ]
  },
  {
   "cell_type": "code",
   "execution_count": null,
   "metadata": {},
   "outputs": [],
   "source": [
    "# Define colors for the two voltage levels\n",
    "colors = {'225': 'blue', '400': 'orange'} \n",
    "X_name = 'Length (m)'\n",
    "Y_name = 'Resistance R (Ω)'\n",
    "scatter_plot(df_ligne_RT_2019, colors, X_name, Y_name)"
   ]
  },
  {
   "cell_type": "code",
   "execution_count": null,
   "metadata": {},
   "outputs": [],
   "source": [
    "# Define colors for the two voltage levels\n",
    "colors = {'225': 'blue', '400': 'orange'} \n",
    "X_name = 'Length (m)'\n",
    "Y_name = 'Reactance X (Ω)'\n",
    "scatter_plot(df_ligne_RT_2019, colors, X_name, Y_name)"
   ]
  },
  {
   "cell_type": "code",
   "execution_count": null,
   "metadata": {},
   "outputs": [],
   "source": [
    "list_col =  ['Resistance R (Ω)', 'R/L (Ω/km)' ]\n",
    "hist_plot_1(df_ligne_RT_2019, list_col)"
   ]
  },
  {
   "cell_type": "code",
   "execution_count": null,
   "metadata": {},
   "outputs": [],
   "source": [
    "list_col =  ['Reactance X (Ω)', 'X/L (Ω/km)' ]\n",
    "hist_plot_1(df_ligne_RT_2019, list_col)"
   ]
  },
  {
   "cell_type": "markdown",
   "metadata": {},
   "source": [
    "##### Courant max :"
   ]
  },
  {
   "cell_type": "code",
   "execution_count": null,
   "metadata": {},
   "outputs": [],
   "source": [
    "df_ligne_RT_2019['U/R'] = df_ligne_RT_2019['Voltage level (kV)']*1000/df_ligne_RT_2019['Resistance R (Ω)']\n",
    "\n",
    "# Define colors for the two voltage levels\n",
    "colors = {'225': 'blue', '400': 'orange'} \n",
    "X_name = 'U/R'\n",
    "Y_name = 'I_max_Summer'\n",
    "scatter_plot(df_ligne_RT_2019, colors, X_name, Y_name)"
   ]
  },
  {
   "cell_type": "code",
   "execution_count": null,
   "metadata": {},
   "outputs": [],
   "source": [
    "Y_name = 'RI/U (%)' # Pertes / Puissance transitée\n",
    "df_ligne_RT_2019['RI/U (%)'] = df_ligne_RT_2019['Resistance R (Ω)']*df_ligne_RT_2019['I_max_Summer']/df_ligne_RT_2019['Voltage level (kV)']/10\n",
    "hist_plot_2(df_ligne_RT_2019, Y_name)"
   ]
  },
  {
   "cell_type": "markdown",
   "metadata": {},
   "source": [
    "##### Résultats :"
   ]
  },
  {
   "cell_type": "markdown",
   "metadata": {},
   "source": [
    "En tant que premières bonnes approximations, on prends :"
   ]
  },
  {
   "cell_type": "code",
   "execution_count": null,
   "metadata": {},
   "outputs": [],
   "source": [
    "R_per_km_225 = 0.06 # Ohm / km\n",
    "X_per_km_225 = 0.402 # Ohm / km\n",
    "\n",
    "R_per_km_400 = 0.02 # Ohm / km\n",
    "X_per_km_400 = 0.302 # Ohm / km\n",
    "\n",
    "pertes_225 = 0.355 # %\n",
    "pertes_400 = 0.465 # %\n"
   ]
  },
  {
   "cell_type": "markdown",
   "metadata": {},
   "source": [
    "##### Commentaires : "
   ]
  },
  {
   "cell_type": "markdown",
   "metadata": {},
   "source": [
    "1. Pour la modélisation des lignes, on observe dans certains cas deux types distincts et de poids équivalent. Plusieurs choix possibles : moyenne, définitions de deux modèles, etc.\n",
    "2. On retrouve les chiffres R/L et X/L avancés dans https://www.techno-science.net/definition/6745.html\n",
    "3. intensité max : on suppose un ratio de perte autorisé max sur la ligne. $ratio = \\frac{Pertes = RI^2}{Transmis = UI}$. A Approfondir? "
   ]
  },
  {
   "cell_type": "markdown",
   "metadata": {},
   "source": [
    "### Lignes 2024 "
   ]
  },
  {
   "cell_type": "code",
   "execution_count": null,
   "metadata": {},
   "outputs": [],
   "source": [
    "path_ligne_aer = '/Users/matthiasmolenat/repos/congestion/data/lignes-aeriennes-rte-nv.csv'\n",
    "df_ligne_RT_2023 = pd.read_csv(path_ligne_aer,delimiter=';')\n"
   ]
  },
  {
   "cell_type": "code",
   "execution_count": null,
   "metadata": {},
   "outputs": [],
   "source": [
    "df_ligne_RT_2023.groupby('TENSION').count()"
   ]
  },
  {
   "cell_type": "code",
   "execution_count": null,
   "metadata": {},
   "outputs": [],
   "source": [
    "df_ligne_RT_2023.shape"
   ]
  },
  {
   "cell_type": "markdown",
   "metadata": {},
   "source": [
    "#### Calcul de la longueur des lignes"
   ]
  },
  {
   "cell_type": "code",
   "execution_count": null,
   "metadata": {},
   "outputs": [],
   "source": [
    "geo_shape_index = df_ligne_RT_2023.columns.to_list().index(\"Geo Shape\")\n",
    "\n",
    "for index, row in df_ligne_RT_2023.iterrows():\n",
    "    geo_data = json.loads(row['Geo Shape'])\n",
    "    longitudes, latitudes = zip(*geo_data[\"coordinates\"])\n",
    "    df_ligne_RT_2023.at[index, \"Length (m)\"] = length_from_coordinate(longitudes, latitudes )\n",
    "    \n",
    "df_ligne_RT_2023.head()"
   ]
  },
  {
   "cell_type": "markdown",
   "metadata": {},
   "source": [
    "#### Ligne avec nom de poste"
   ]
  },
  {
   "cell_type": "code",
   "execution_count": null,
   "metadata": {},
   "outputs": [],
   "source": [
    "df_poste_spe = get_row_with_str(df_ligne_RT_2023, 'B.MONL72CHAFF')\n",
    "df_poste_spe.head(20)"
   ]
  },
  {
   "cell_type": "markdown",
   "metadata": {},
   "source": [
    "### Extrapolation caractéristiques éléctrotechniques 2024 depuis les lignes 2019"
   ]
  },
  {
   "cell_type": "markdown",
   "metadata": {},
   "source": [
    "## DATA Postes "
   ]
  },
  {
   "cell_type": "markdown",
   "metadata": {},
   "source": [
    "### DATA Postes : CAPARESEAUX"
   ]
  },
  {
   "cell_type": "markdown",
   "metadata": {},
   "source": [
    "Capacté d'acceuil .csv issu de https://www.capareseau.fr/\n",
    "\n",
    "[Données intéressantes](https://www.services-rte.com/fr/decouvrez-nos-offres-de-services/consulter-les-capacites-d-accueil-du-reseau-capareseau.html):\n",
    "\n",
    "A l'injection :\n",
    "1. Taux d'affectation des capacités  (%), part des capacités réservées du S3REnR attribuée à des installations EnR en développement ou en service. Il correspond au taux d’avancement global du schéma.\n",
    "\n",
    "Au sous-tirage :\n",
    "1. consommation minimale ( = été? en hiver, = x5 ?)\n",
    "\n",
    "A l'injection et au sous-tirage :\n",
    "1. Puissance cumulee des transformateurs existants das le poste source (MW)\n",
    "2. Travaux indiqués dans le schéma ou dans son état initial\n",
    "\n",
    "Pour la modélisation du réseau :\n",
    "1. Tension amont du poste source (GRT, kV),\n",
    "2. Tension aval du poste source (GRD, kV),\n"
   ]
  },
  {
   "cell_type": "code",
   "execution_count": null,
   "metadata": {},
   "outputs": [],
   "source": [
    "path_capa = '/Users/matthiasmolenat/repos/congestion/data/CapacitesDAccueil.csv'\n",
    "df_capareseau = pd.read_csv(path_capa,delimiter=';')\n",
    "df_capareseau.head()"
   ]
  },
  {
   "cell_type": "code",
   "execution_count": null,
   "metadata": {},
   "outputs": [],
   "source": [
    "df_capareseau = df_capareseau[df_capareseau.columns[~df_capareseau.columns.str.endswith('.1')]]\n",
    "\n",
    "df_capareseau = df_capareseau[df_capareseau[\"Puissance cumulee des transformateurs existants\"] > 0]\n",
    "df_capareseau = df_capareseau[~df_capareseau[\"Consommation minimale\"].isna()]\n",
    "df_capareseau = df_capareseau[df_capareseau['Consommation minimale'] > 0]\n",
    "\n",
    "df_capareseau = df_capareseau[~df_capareseau[\"Capacite de transformation HTB/HTA restante disponible pour l'injection sur le reseau public de distribution\"].isna()]\n",
    "df_capareseau = df_capareseau[df_capareseau[\"Capacite de transformation HTB/HTA restante disponible pour l'injection sur le reseau public de distribution\"]>0]\n",
    "\n",
    "df_capareseau.head()"
   ]
  },
  {
   "cell_type": "code",
   "execution_count": null,
   "metadata": {},
   "outputs": [],
   "source": [
    "df_capareseau.columns"
   ]
  },
  {
   "cell_type": "code",
   "execution_count": null,
   "metadata": {},
   "outputs": [],
   "source": [
    "df_capareseau[[\"Capacite reservee aux EnR au titre du S3REnR\", \"Capacite d'accueil reservee au titre du S3REnR, disponible vue du reseau public de transport \",\"Capacite de transformation HTB/HTA restante disponible pour l'injection sur le reseau public de distribution\", \"Puissance cumulee des transformateurs existants\", \"Puissance en file d'attente hors S3REnR majoree de la capacite reservee du S3REnR\"]].head(20)"
   ]
  },
  {
   "cell_type": "markdown",
   "metadata": {},
   "source": [
    "#### Visualisation d'une ligne en particulière"
   ]
  },
  {
   "cell_type": "code",
   "execution_count": null,
   "metadata": {},
   "outputs": [],
   "source": [
    "df_poste_spe = get_row_with_str(df_capareseau, 'CHAP5')\n",
    "\n",
    "for i,x in enumerate(df_poste_spe.columns.to_list()):\n",
    "    print(f'\\n {x} : {df_poste_spe.iloc[0][x]}')"
   ]
  },
  {
   "cell_type": "markdown",
   "metadata": {},
   "source": [
    "#### Visualisation de la répartition des conso minimales "
   ]
  },
  {
   "cell_type": "markdown",
   "metadata": {},
   "source": [
    "Guess : poche de sous-tirage = p_max = p_min * 5 / p_inst, french heatmap"
   ]
  },
  {
   "cell_type": "code",
   "execution_count": null,
   "metadata": {},
   "outputs": [],
   "source": [
    "X_name = \"Puissance cumulee des transformateurs existants\"\n",
    "Y_name = \"Consommation minimale\"\n",
    "\n",
    "df = df_capareseau[[X_name,Y_name]].copy()\n",
    "df.dropna(inplace=True)\n",
    "\n",
    "x = df[X_name]\n",
    "y_min = df[Y_name]\n",
    "y_max = 5*df[Y_name]\n",
    "\n",
    "lim_acceptable = 110/100\n",
    "\n",
    "coefficients = np.polyfit(x, y_min, 1)  # Fit a line: y = mx + c\n",
    "m, c = coefficients\n",
    "y_fit = m * x + c  # Regression line values\n",
    "\n",
    "plt.figure(figsize=(12, 8))\n",
    "\n",
    "plt.scatter(x, y_min, \n",
    "            s=20, alpha=0.3, c = 'b', label = 'Conso minimale')\n",
    "plt.scatter(x, y_max,\n",
    "            s=20, alpha=0.3, c = 'r', label = 'Conso max')\n",
    "\n",
    "plt.plot(x, y_fit, label=f\"Fit: y = {m:.2f}x + {c:.2f}\", color=\"cyan\")\n",
    "plt.plot(x, lim_acceptable*x, label=\"110 % $P_{inst}$\", color=\"black\") # 110 %\n",
    "\n",
    "# Customize the plot\n",
    "plt.title(f'conso extrêmes en fonction de la puissance des transformateurs', fontsize=16)\n",
    "plt.ylabel('Consommation (MW)', fontsize=12)\n",
    "plt.xlabel('Puissance installée des transformateurs (MW)', fontsize=12)\n",
    "plt.legend()\n",
    "plt.xticks(rotation=40, ha='right')\n",
    "\n",
    "plt.tight_layout()\n",
    "\n",
    "# Display the plot\n",
    "plt.show()"
   ]
  },
  {
   "cell_type": "markdown",
   "metadata": {},
   "source": [
    "### Data Postes : ODRE"
   ]
  },
  {
   "cell_type": "markdown",
   "metadata": {},
   "source": [
    "Fichier [Enceintes de poste RTE (au 10 juin 2024)](https://odre.opendatasoft.com/explore/dataset/enceintes-de-poste-rte/export/?disjunctive.etat&sort=nom_poste)\n",
    "\n",
    "Pour, dans un premier temps, récupérer les coordonnées des postes caparéseaux ouverts précédemment"
   ]
  },
  {
   "cell_type": "code",
   "execution_count": null,
   "metadata": {},
   "outputs": [],
   "source": [
    "path_postes = '/Users/matthiasmolenat/repos/congestion/data/enceintes-de-poste-rte.csv'\n",
    "df_poste_odre = pd.read_csv(path_postes,delimiter=';')"
   ]
  },
  {
   "cell_type": "code",
   "execution_count": null,
   "metadata": {},
   "outputs": [],
   "source": [
    "df_poste_odre.groupby('TENSION MAXIMALE').count()"
   ]
  },
  {
   "cell_type": "markdown",
   "metadata": {},
   "source": [
    "### Upgrade Data Postes : ODRE + caparéseaux"
   ]
  },
  {
   "cell_type": "markdown",
   "metadata": {},
   "source": [
    "Récupération des coordonnées 2D"
   ]
  },
  {
   "cell_type": "code",
   "execution_count": null,
   "metadata": {},
   "outputs": [],
   "source": [
    "df_left =  df_capareseau.set_index('Code').copy()\n",
    "df_right =  df_poste_odre.set_index('CODIFICATION NATIONALE POSTE')['geo_point_2d'].copy()\n",
    "\n",
    "df_joined = df_left.join(df_right, how='inner')\n",
    "\n",
    "df_joined['geo_point_2d'] = df_joined['geo_point_2d'].astype(str)\n",
    "geo_point_2d = df_joined['geo_point_2d'].to_list()\n",
    "\n",
    "\n",
    "df_joined['lat'] = [x.split(sep= ', ')[0] for x in geo_point_2d]\n",
    "df_joined['lon'] = [x.split(sep = ', ')[-1] for x in geo_point_2d]\n",
    "\n"
   ]
  },
  {
   "cell_type": "code",
   "execution_count": null,
   "metadata": {},
   "outputs": [],
   "source": [
    "# sous-tirage \n",
    "df_capareseau_ss_tirage = df_joined.copy()\n",
    "df_capareseau_ss_tirage[\"ratio_congestion_sous_tirage\"] = 5*df_capareseau_ss_tirage[\"Consommation minimale\"]/df_capareseau_ss_tirage[\"Puissance cumulee des transformateurs existants\"]*100\n",
    "df_capareseau_ss_tirage = df_capareseau_ss_tirage[df_capareseau_ss_tirage[\"ratio_congestion_sous_tirage\"]<110]\n",
    "df_capareseau_ss_tirage = df_capareseau_ss_tirage[~df_capareseau_ss_tirage['ratio_congestion_sous_tirage'].isna()]\n",
    "df_capareseau_ss_tirage[\"ratio_congestion_sous_tirage\"] = df_capareseau_ss_tirage[\"ratio_congestion_sous_tirage\"].astype(int)\n",
    "df_capareseau_ss_tirage[\"RAM_sous_tirage\"] = (1 -  df_capareseau_ss_tirage[\"ratio_congestion_sous_tirage\"]/100)*df_capareseau_ss_tirage[\"Puissance cumulee des transformateurs existants\"]\n",
    "\n",
    "\n",
    "# injection \n",
    "df_capareseau_injection = df_joined.copy()\n",
    "df_capareseau_injection[\"projet_injection\"] = df_capareseau_injection['Puissance EnR deje raccordee'] + df_capareseau_injection[\"Puissance des projets EnR en developpement\"] + df_capareseau_injection[\"Puissance en file d'attente hors S3REnR majoree de la capacite reservee du S3REnR\"]\n",
    "df_capareseau_injection[\"ratio_congestion_injection\"] = df_capareseau_injection[\"projet_injection\"]  / df_capareseau_injection[\"Capacite de transformation HTB/HTA restante disponible pour l'injection sur le reseau public de distribution\"]*100\n",
    "df_capareseau_injection[\"ratio_congestion_injection\"] = [100 if x > 100 else x for x in df_capareseau_injection[\"ratio_congestion_injection\"].to_list()] \n",
    "df_capareseau_injection = df_capareseau_injection[~df_capareseau_injection['ratio_congestion_injection'].isna()]\n",
    "df_capareseau_injection[\"ratio_congestion_injection\"] = df_capareseau_injection[\"ratio_congestion_injection\"].astype(int)\n",
    "df_capareseau_injection[\"RAM_injection\"] = (1-df_capareseau_injection[\"ratio_congestion_injection\"]/100)*df_capareseau_injection[\"Capacite de transformation HTB/HTA restante disponible pour l'injection sur le reseau public de distribution\"]\n",
    "\n",
    "# intersection\n",
    "df_intersection = df_capareseau_injection.join(df_capareseau_ss_tirage['RAM_sous_tirage'], how='inner')\n",
    "row, col = df_intersection.shape\n",
    "df_intersection['min_RAM'] = [min(df_intersection['RAM_sous_tirage'].iloc[i],df_intersection['RAM_injection'].iloc[i]) for i in range(row)]"
   ]
  },
  {
   "cell_type": "code",
   "execution_count": null,
   "metadata": {},
   "outputs": [],
   "source": [
    "df_intersection.to_csv('/Users/matthiasmolenat/repos/congestion/data/capareseau_ram.csv')"
   ]
  },
  {
   "cell_type": "markdown",
   "metadata": {},
   "source": [
    "## DATA Contraintes \n",
    "\n",
    "1. [Contraintes résiduelles prospectives sur le RPT à horizon 3 à 5 ans (à février 2024)](https://odre.opendatasoft.com/explore/dataset/contraintes-region/export/?location=7,46.18744,3.57056&basemap=jawg.light)"
   ]
  },
  {
   "cell_type": "code",
   "execution_count": null,
   "metadata": {},
   "outputs": [],
   "source": [
    "path = '/Users/matthiasmolenat/repos/congestion/data/contraintes-region.csv'\n",
    "df_contraintes_sites = pd.read_csv(path,delimiter=';',index_col=False)\n",
    "df_contraintes_sites.head()"
   ]
  },
  {
   "cell_type": "markdown",
   "metadata": {},
   "source": [
    "2. [Energies et Puissances régionales liées au contraintes (vision à février 2024)](https://odre.opendatasoft.com/explore/dataset/energies-et-puissances-regionales-liees-au-contraintes/information/)"
   ]
  },
  {
   "cell_type": "code",
   "execution_count": null,
   "metadata": {},
   "outputs": [],
   "source": [
    "path = '/Users/matthiasmolenat/repos/congestion/data/energies-et-puissances-regionales-liees-au-contraintes.csv'\n",
    "df_contraintes_P = pd.read_csv(path,delimiter=';',index_col=False)\n",
    "df_contraintes_P.sort_values(by='Puissance Totale à compenser', ascending= True).head(12)"
   ]
  },
  {
   "cell_type": "markdown",
   "metadata": {},
   "source": [
    "## Data métropole"
   ]
  },
  {
   "cell_type": "code",
   "execution_count": null,
   "metadata": {},
   "outputs": [],
   "source": []
  },
  {
   "cell_type": "markdown",
   "metadata": {},
   "source": [
    "## Visualisation sur carte"
   ]
  },
  {
   "cell_type": "markdown",
   "metadata": {},
   "source": [
    "### Visualisation Lignes"
   ]
  },
  {
   "cell_type": "code",
   "execution_count": null,
   "metadata": {},
   "outputs": [],
   "source": [
    "# Create an empty figure\n",
    "fig = go.Figure()\n",
    "\n",
    "# Param\n",
    "colors_tension = {'400kV' : 'red', '225kV' : 'green',\n",
    "                  '150kV' : 'blue', '90kV' : 'orange',\n",
    "                  '63kV' : 'magenta', '45kV' : 'yellow',\n",
    "                  '<45kV' : 'purple', 'HORS TENSION' : 'black'}\n",
    "light_version = False # if true, show only starting and ending point of line\n",
    "level_of_tension = ['400kV', '225kV']\n",
    "\n",
    "# Iterate over each row in the DataFrame\n",
    "for index, row in df_ligne_RT_2023[df_ligne_RT_2023['TENSION'].isin(level_of_tension) ].iloc[:2000].iterrows():\n",
    "    # Parse the JSON string in the 'Geo Shape' column\n",
    "    try:\n",
    "        geo_data = json.loads(row['Geo Shape'])\n",
    "    except json.JSONDecodeError:\n",
    "        print(f\"Error parsing JSON for row {index}. Skipping this row.\")\n",
    "        continue\n",
    "    line_tension = row['TENSION']\n",
    "\n",
    "    # Extract coordinates\n",
    "    if \"coordinates\" in geo_data and isinstance(geo_data[\"coordinates\"], list):\n",
    "        longitudes, latitudes = zip(*geo_data[\"coordinates\"])\n",
    "        \n",
    "        if light_version:\n",
    "            longitudes = [longitudes[0], longitudes[-1]]\n",
    "            latitudes = [latitudes[0], latitudes[-1]]\n",
    "\n",
    "        # Add a trace for this line\n",
    "        fig.add_trace(go.Scattermap(\n",
    "            mode = \"lines\",\n",
    "            lon = longitudes,\n",
    "            lat = latitudes,\n",
    "            name = f\"Line {index}\",  # You can replace this with a more meaningful name if available\n",
    "            line = dict(width = 2),\n",
    "            marker_color = colors_tension[line_tension]\n",
    "        ))\n",
    "    else:\n",
    "        print(f\"No valid coordinates found for row {index}. Skipping this row.\")\n",
    "\n",
    "# Update the layout\n",
    "fig.update_layout(\n",
    "    geo=dict(\n",
    "        scope='europe',  # You can change this to a specific country or region\n",
    "        projection_type='natural earth',\n",
    "        showland=True,\n",
    "        landcolor='rgb(243, 243, 243)',\n",
    "        countrycolor='rgb(204, 204, 204)',\n",
    "        coastlinecolor='rgb(204, 204, 204)',\n",
    "        showocean=True,\n",
    "        oceancolor='rgb(230, 230, 250)',\n",
    "        center=dict(\n",
    "            lon=longitudes[0],  # Center on the first longitude\n",
    "            lat=latitudes[0]    # Center on the first latitude\n",
    "        ),\n",
    "    ),\n",
    "    showlegend=False,\n",
    "    title='Some lines in France'\n",
    "    )\n",
    "# Show the figure\n",
    "fig.show()\n",
    "\n"
   ]
  },
  {
   "cell_type": "markdown",
   "metadata": {},
   "source": [
    "### Visualisation postes capareseau"
   ]
  },
  {
   "cell_type": "markdown",
   "metadata": {},
   "source": [
    "#### sous-tirage"
   ]
  },
  {
   "cell_type": "code",
   "execution_count": null,
   "metadata": {},
   "outputs": [],
   "source": [
    "fig_title = 'RAM_sous_tirage during hivernal consumption - CAPARESEAU datas'\n",
    "values_title = 'RAM_sous_tirage'\n",
    "\n",
    "df_capareseau_ss_tirage['text'] = df_capareseau_ss_tirage['Nom'] + ', Value = ' + df_capareseau_ss_tirage[values_title].astype(str) + 'MW , P_inst = ' + df_capareseau_ss_tirage['Puissance cumulee des transformateurs existants'].astype(str) + ' MW'\n",
    "\n",
    "show_map_substation_gradient(df_capareseau_ss_tirage, values_title,fig_title,values_title, 'text', True)"
   ]
  },
  {
   "cell_type": "markdown",
   "metadata": {},
   "source": [
    "#### Injections"
   ]
  },
  {
   "cell_type": "code",
   "execution_count": null,
   "metadata": {},
   "outputs": [],
   "source": [
    "fig_title = 'RAM_injection during summer - CAPARESEAU datas'\n",
    "values_title = \"RAM_injection\"\n",
    "\n",
    "df_capareseau_injection['text'] = df_capareseau_injection['Nom'].astype(str)  + ', value = ' + df_capareseau_injection[values_title].astype(str) + ' MW'\n",
    "bar_title = values_title\n",
    "\n",
    "show_map_substation_gradient(df_capareseau_injection,values_title,fig_title,bar_title, scale_reverse= True)"
   ]
  },
  {
   "cell_type": "markdown",
   "metadata": {},
   "source": [
    "#### intersections"
   ]
  },
  {
   "cell_type": "code",
   "execution_count": null,
   "metadata": {},
   "outputs": [],
   "source": [
    "fig_title = 'Substation RAM : min injection & consumption - CAPARESEAU datas'\n",
    "\n",
    "values_title = \"min_RAM\"\n",
    "df_intersection['text'] = df_intersection['Nom'].astype(str)  + ', value = ' + df_intersection[values_title].astype(str) + ' MW, P_inst = ' + df_intersection['Puissance cumulee des transformateurs existants'].astype(str) + ' MW'\n",
    "bar_title = values_title  + ' MW'\n",
    "\n",
    "show_map_substation_gradient(df_intersection,values_title,fig_title,bar_title, scale_reverse= True)"
   ]
  },
  {
   "cell_type": "markdown",
   "metadata": {},
   "source": [
    "#### Navigation dans les datasets  et comparaison avec D1"
   ]
  },
  {
   "cell_type": "code",
   "execution_count": null,
   "metadata": {},
   "outputs": [],
   "source": [
    "path_D1 = '/Users/matthiasmolenat/repos/congestion/data/00.Suivi D1  - Suivi_D1.csv'\n",
    "df_D1 = pd.read_csv(path_D1, header=1, index_col=0)\n",
    "df_D1.head()"
   ]
  },
  {
   "cell_type": "code",
   "execution_count": null,
   "metadata": {},
   "outputs": [],
   "source": [
    "with open('compared_D1_ratio.txt', 'a') as file:\n",
    "    \n",
    "    for index, row in df_D1.iterrows():\n",
    "        df_poste_spe = get_row_with_str(df_intersection, str(index))\n",
    "\n",
    "        if not df_poste_spe.empty and not pd.isna(row['Validation comité']) :\n",
    "            file.write(f\"{index}, demande : 50 MW?, results :  {row['Validation comité']}\" + '\\n') \n",
    "            file.write(f\"injection RAM = {df_poste_spe['RAM_injection'].iloc[0]} MW, vs limitations perennes = {row['Injection']} h, temporaires = {row['Injection.1']} h\" + '\\n') \n",
    "            file.write(f\"sous-tirage RAM = {df_poste_spe['RAM_sous_tirage'].iloc[0]} MW, vs limitations perenne = {row['Soutirage']} h, temporaire = {row['Soutirage.1']} h\" + '\\n') \n",
    "            file.write('\\n')\n",
    "            file.write('\\n')\n",
    "            \n",
    "            \n",
    "# A poursuivre, il faut comparer la ram en MW et la demande effectuée\n",
    "\n",
    "        "
   ]
  },
  {
   "cell_type": "markdown",
   "metadata": {},
   "source": []
  }
 ],
 "metadata": {
  "kernelspec": {
   "display_name": ".venv",
   "language": "python",
   "name": "python3"
  },
  "language_info": {
   "codemirror_mode": {
    "name": "ipython",
    "version": 3
   },
   "file_extension": ".py",
   "mimetype": "text/x-python",
   "name": "python",
   "nbconvert_exporter": "python",
   "pygments_lexer": "ipython3",
   "version": "3.11.8"
  }
 },
 "nbformat": 4,
 "nbformat_minor": 2
}
